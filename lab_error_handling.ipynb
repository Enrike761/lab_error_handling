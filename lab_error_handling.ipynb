{
 "cells": [
  {
   "cell_type": "markdown",
   "id": "1be460d2-11c6-41eb-bab2-381bdb1d69ff",
   "metadata": {},
   "source": [
    "# ejercicio 1/ ERRORS LAB"
   ]
  },
  {
   "cell_type": "code",
   "execution_count": 5,
   "id": "eb03b4f2-51dc-4a52-a96f-62d934adfaba",
   "metadata": {},
   "outputs": [],
   "source": [
    "products = [\"t-shirt\", \"mug\", \"hat\", \"book\", \"keychain\"]"
   ]
  },
  {
   "cell_type": "code",
   "execution_count": 9,
   "id": "1f329bf5-bd70-4662-934b-37bea9433ae9",
   "metadata": {},
   "outputs": [],
   "source": [
    "inventory={}"
   ]
  },
  {
   "cell_type": "code",
   "execution_count": null,
   "id": "dea421cd-b617-4ed4-ad9a-ab438c816ebc",
   "metadata": {},
   "outputs": [],
   "source": [
    "products = [\"t-shirt\", \"mug\", \"hat\", \"book\", \"keychain\"]\n",
    "inventory={}\n",
    "\n",
    "def initialize_inventory(products):\n",
    "    for x in products:\n",
    "        while True:\n",
    "            try:\n",
    "                input1=int(input(f\"\"\"introduce el número de {x}\"\"\"))\n",
    "                if input1 > 0:\n",
    "                    inventory[x] = input1\n",
    "                else:\n",
    "                    print(\"introduce un número positvo\")\n",
    "                    break\n",
    "            except ValueError:\n",
    "                \"introduce dígitos, no letras\"\n",
    "initialize_inventory(products) #:( bucle infinito"
   ]
  },
  {
   "cell_type": "code",
   "execution_count": null,
   "id": "688b0987-ca58-4cab-ad91-eabd394b3bfd",
   "metadata": {},
   "outputs": [],
   "source": [
    "print(inventory)"
   ]
  },
  {
   "cell_type": "code",
   "execution_count": null,
   "id": "a24ba2dc-476c-48d9-9406-d0b6bbd3f27e",
   "metadata": {},
   "outputs": [],
   "source": [
    "#ejercicio 2"
   ]
  },
  {
   "cell_type": "code",
   "execution_count": 13,
   "id": "db799657-46b4-46bf-9ed3-88803fbf480b",
   "metadata": {},
   "outputs": [
    {
     "name": "stdout",
     "output_type": "stream",
     "text": [
      "set()\n"
     ]
    }
   ],
   "source": [
    "customer_orders = set()\n",
    "def get_customer_orders():\n",
    "    for x in inventory:\n",
    "        customer_orders=input(f\"\"\"introduce el producto que desees de {inventory}\"\"\")\n",
    "get_customer_orders()\n",
    "print(customer_orders) "
   ]
  },
  {
   "cell_type": "code",
   "execution_count": null,
   "id": "9dfcdfd7-2193-494d-8666-4d5e4e594bb0",
   "metadata": {},
   "outputs": [],
   "source": [
    "customer_orders = set()\n",
    "def get_customer_orders():\n",
    "    for x in inventory:\n",
    "        respuesta = input(f\"\"\"quieres pedir {x}, yes/no\"\"\")\n",
    "        if respuesta.lower() == \"yes\":\n",
    "            customer_orders.add(x)\n",
    "        else:\n",
    "            break\n",
    "get_customer_orders()\n",
    "print(customer_orders)"
   ]
  },
  {
   "cell_type": "markdown",
   "id": "d4a66112-773a-44c0-bb4a-abc19a308a6f",
   "metadata": {},
   "source": [
    "# NEW FUNCTION FOR ERROR LAB"
   ]
  },
  {
   "cell_type": "code",
   "execution_count": null,
   "id": "2ae53751-5cff-4871-9468-4a4a49ce98b2",
   "metadata": {},
   "outputs": [],
   "source": [
    "def quantity_orders(products):\n",
    "    for x in products:\n",
    "        input2 = input(f\"\"\"quieres pedir {x}, yes/no\"\"\")\n",
    "        if input2.lower() == \"yes\":\n",
    "            input3 = input(\"introduce el número que desees\")\n",
    "            if isinstance(input3, int) and input3 >0:\n",
    "                customer_orders.add(input3)\n",
    "            else:\n",
    "                print(\"introduce un número válido\")\n",
    "quantity_orders(products)\n",
    "print(customer_orders)\n",
    "        "
   ]
  },
  {
   "cell_type": "code",
   "execution_count": null,
   "id": "950fe6f9-2b1b-4eea-be42-712a6fedd692",
   "metadata": {},
   "outputs": [],
   "source": [
    "#ejercicio 3"
   ]
  },
  {
   "cell_type": "code",
   "execution_count": null,
   "id": "c231c852-f07a-40ec-bac2-3e253a1a8c75",
   "metadata": {},
   "outputs": [],
   "source": [
    "def update_inventory(customer_orders,inventory):\n",
    "    for product in customer_orders:\n",
    "        if product in inventory:\n",
    "            inventory[product] -= 1\n",
    "update_inventory(customer_orders,inventory)\n",
    "print(inventory)"
   ]
  },
  {
   "cell_type": "code",
   "execution_count": null,
   "id": "9a16a328-b718-484a-9479-d3f9facd3201",
   "metadata": {},
   "outputs": [],
   "source": [
    "#ejercicio 4"
   ]
  },
  {
   "cell_type": "code",
   "execution_count": null,
   "id": "4d6275c3-6763-42bc-8ba5-2f53e2a7d934",
   "metadata": {},
   "outputs": [],
   "source": [
    "Total_Products_Ordered = len(customer_orders)\n",
    "Percentage_of_Products_Ordered =len(customer_orders) / len(products) *100\n",
    "def calculate_order_statistics(customer_orders,products):\n",
    "    calculate_order_statistics(customer_orders,products)\n",
    "    print(Total_Products_Ordered,Percentage_of_Products_Ordered) "
   ]
  },
  {
   "cell_type": "code",
   "execution_count": null,
   "id": "9936870c-f80a-4cb1-b705-e9d4164f76cd",
   "metadata": {},
   "outputs": [],
   "source": [
    "Percentage_of_Products_Ordered"
   ]
  },
  {
   "cell_type": "code",
   "execution_count": null,
   "id": "ebf4ad6c-de3c-4f57-9749-d55def374a93",
   "metadata": {},
   "outputs": [],
   "source": [
    "def print_order_statistics(order_statistics):\n",
    "    order_statistics=Total_Products_Ordered,Percentage_of_Products_Ordered\n",
    "    print_order_statistics(order_statistics)"
   ]
  },
  {
   "cell_type": "code",
   "execution_count": null,
   "id": "36bb6caf-8053-45cf-99ee-bfd0cd275e31",
   "metadata": {},
   "outputs": [],
   "source": [
    "print_order_statistics(order_statistics)"
   ]
  },
  {
   "cell_type": "code",
   "execution_count": null,
   "id": "75596841-90d1-4522-93cf-ef4dee0052f4",
   "metadata": {},
   "outputs": [],
   "source": [
    "updated_inventory = inventory.update(customer_orders)\n",
    "def print_updated_inventory(inventory):\n",
    "    updated_inventory = inventory.update(customer_orders)\n",
    "print(updated_inventory)"
   ]
  },
  {
   "cell_type": "code",
   "execution_count": null,
   "id": "9daf11d3-b125-47dc-a8cc-d4b187cfe9e5",
   "metadata": {},
   "outputs": [],
   "source": [
    "updated_inventory"
   ]
  },
  {
   "cell_type": "code",
   "execution_count": null,
   "id": "9f8fccb8-fa36-4538-939e-04ffdbbf6977",
   "metadata": {},
   "outputs": [],
   "source": []
  }
 ],
 "metadata": {
  "kernelspec": {
   "display_name": "Python 3 (ipykernel)",
   "language": "python",
   "name": "python3"
  },
  "language_info": {
   "codemirror_mode": {
    "name": "ipython",
    "version": 3
   },
   "file_extension": ".py",
   "mimetype": "text/x-python",
   "name": "python",
   "nbconvert_exporter": "python",
   "pygments_lexer": "ipython3",
   "version": "3.12.4"
  }
 },
 "nbformat": 4,
 "nbformat_minor": 5
}
